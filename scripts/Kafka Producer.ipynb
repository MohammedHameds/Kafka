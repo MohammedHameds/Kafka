{
 "cells": [
  {
   "cell_type": "code",
   "execution_count": 3,
   "id": "cceba177",
   "metadata": {},
   "outputs": [
    {
     "name": "stdout",
     "output_type": "stream",
     "text": [
      "Sent Gold Price: {'id': '4729379d-0fbd-4479-8279-5e095526ac7d', 'item': 'Gold 24K', 'unit': 'gram', 'price': 4522.64, 'currency': 'EGP', 'timestamp': '2025-09-09T21:25:41.427699'}\n",
      "Sent Gold Price: {'id': 'c5b5344a-6f60-40d4-83d9-431bd9ba0d85', 'item': 'Gold 24K', 'unit': 'gram', 'price': 4722.34, 'currency': 'EGP', 'timestamp': '2025-09-09T21:25:43.550739'}\n",
      "Sent Gold Price: {'id': '93756b04-c7d6-4d4b-ad87-b43b19f88b5e', 'item': 'Gold 24K', 'unit': 'gram', 'price': 4994.92, 'currency': 'EGP', 'timestamp': '2025-09-09T21:25:45.554448'}\n",
      "Sent Gold Price: {'id': 'c7971e15-c1d6-434f-b28c-3c459499aedb', 'item': 'Gold 24K', 'unit': 'gram', 'price': 4604.54, 'currency': 'EGP', 'timestamp': '2025-09-09T21:25:47.557891'}\n",
      "Sent Gold Price: {'id': '875560d7-95d2-4429-9c41-2355b94a8116', 'item': 'Gold 24K', 'unit': 'gram', 'price': 4530.71, 'currency': 'EGP', 'timestamp': '2025-09-09T21:25:49.575965'}\n",
      "Sent Gold Price: {'id': 'e33c50a9-c46c-40ed-878a-bc4b77fa6783', 'item': 'Gold 24K', 'unit': 'gram', 'price': 4836.53, 'currency': 'EGP', 'timestamp': '2025-09-09T21:25:51.577680'}\n",
      "Sent Gold Price: {'id': '4c477741-c9d1-4671-88b0-00a3e9a08684', 'item': 'Gold 24K', 'unit': 'gram', 'price': 4935.66, 'currency': 'EGP', 'timestamp': '2025-09-09T21:25:53.589470'}\n",
      "Sent Gold Price: {'id': 'e7b7638a-71b2-44e4-923b-bf0d477c5ce0', 'item': 'Gold 24K', 'unit': 'gram', 'price': 4861.84, 'currency': 'EGP', 'timestamp': '2025-09-09T21:25:55.602558'}\n",
      "Sent Gold Price: {'id': '95b815b6-b575-440f-b4e9-7d7dee55aeaf', 'item': 'Gold 24K', 'unit': 'gram', 'price': 4553.96, 'currency': 'EGP', 'timestamp': '2025-09-09T21:25:57.614214'}\n",
      "Sent Gold Price: {'id': '0ce43fcf-8cf6-4893-b929-22fd0ccd154e', 'item': 'Gold 24K', 'unit': 'gram', 'price': 4636.08, 'currency': 'EGP', 'timestamp': '2025-09-09T21:25:59.618037'}\n",
      "Sent Gold Price: {'id': '767c2d79-cf6a-416e-98fc-cf8c2340921a', 'item': 'Gold 24K', 'unit': 'gram', 'price': 4821.5, 'currency': 'EGP', 'timestamp': '2025-09-09T21:26:01.631918'}\n",
      "Sent Gold Price: {'id': 'c0a3dee3-dded-4d04-8fcd-0fb3dd43e03e', 'item': 'Gold 24K', 'unit': 'gram', 'price': 4598.42, 'currency': 'EGP', 'timestamp': '2025-09-09T21:26:03.638958'}\n",
      "Sent Gold Price: {'id': 'cd1cf7da-efac-44de-8178-168a26dc36a3', 'item': 'Gold 24K', 'unit': 'gram', 'price': 4821.75, 'currency': 'EGP', 'timestamp': '2025-09-09T21:26:05.651662'}\n",
      "Sent Gold Price: {'id': '72850cbb-085e-4fed-bf44-9e3b89ca0e34', 'item': 'Gold 24K', 'unit': 'gram', 'price': 4552.88, 'currency': 'EGP', 'timestamp': '2025-09-09T21:26:07.660905'}\n",
      "Sent Gold Price: {'id': '459f336a-442c-4771-816a-bf76cb266758', 'item': 'Gold 24K', 'unit': 'gram', 'price': 4531.31, 'currency': 'EGP', 'timestamp': '2025-09-09T21:26:09.668832'}\n",
      "Sent Gold Price: {'id': '759833b5-bec1-48df-bc2d-4e06472b3aa9', 'item': 'Gold 24K', 'unit': 'gram', 'price': 4511.33, 'currency': 'EGP', 'timestamp': '2025-09-09T21:26:11.675944'}\n",
      "Sent Gold Price: {'id': 'f6af0a87-d8a6-44d3-be30-b5d56e63c1f5', 'item': 'Gold 24K', 'unit': 'gram', 'price': 4809.25, 'currency': 'EGP', 'timestamp': '2025-09-09T21:26:13.693926'}\n",
      "Sent Gold Price: {'id': '7722ecf9-f776-4e2d-919f-b83e31278287', 'item': 'Gold 24K', 'unit': 'gram', 'price': 4879.68, 'currency': 'EGP', 'timestamp': '2025-09-09T21:26:15.704908'}\n",
      "Sent Gold Price: {'id': '4580f5d9-330b-419d-846d-26ac8f3e5076', 'item': 'Gold 24K', 'unit': 'gram', 'price': 4931.61, 'currency': 'EGP', 'timestamp': '2025-09-09T21:26:17.710765'}\n",
      "Sent Gold Price: {'id': 'b50a3de0-1358-4abb-8cf0-4cc3ee70c3a9', 'item': 'Gold 24K', 'unit': 'gram', 'price': 4595.25, 'currency': 'EGP', 'timestamp': '2025-09-09T21:26:19.722850'}\n",
      "Sent Gold Price: {'id': '9c4d4785-c000-488d-adfc-57152125d526', 'item': 'Gold 24K', 'unit': 'gram', 'price': 4531.84, 'currency': 'EGP', 'timestamp': '2025-09-09T21:26:21.731540'}\n",
      "Sent Gold Price: {'id': 'fd622cce-b646-49e6-a49d-def8e92a852f', 'item': 'Gold 24K', 'unit': 'gram', 'price': 4538.28, 'currency': 'EGP', 'timestamp': '2025-09-09T21:26:23.744816'}\n",
      "Sent Gold Price: {'id': 'f47573b9-dcb8-4987-a190-f502d5c6bc24', 'item': 'Gold 24K', 'unit': 'gram', 'price': 4830.72, 'currency': 'EGP', 'timestamp': '2025-09-09T21:26:25.756080'}\n",
      "Sent Gold Price: {'id': '95e3852a-bb7f-4c54-96fa-9d8d9c815163', 'item': 'Gold 24K', 'unit': 'gram', 'price': 4909.71, 'currency': 'EGP', 'timestamp': '2025-09-09T21:26:27.768852'}\n",
      "Sent Gold Price: {'id': '7e49def2-1f38-45cb-8fee-d9ecf18d3ad8', 'item': 'Gold 24K', 'unit': 'gram', 'price': 4643.01, 'currency': 'EGP', 'timestamp': '2025-09-09T21:26:29.774955'}\n",
      "Sent Gold Price: {'id': '02b7fbb4-6ad2-45cc-afab-ef4f632230ee', 'item': 'Gold 24K', 'unit': 'gram', 'price': 4582.68, 'currency': 'EGP', 'timestamp': '2025-09-09T21:26:31.792251'}\n",
      "Sent Gold Price: {'id': '3f687a11-3cbd-4a7e-94d5-0a98350374e4', 'item': 'Gold 24K', 'unit': 'gram', 'price': 4789.0, 'currency': 'EGP', 'timestamp': '2025-09-09T21:26:33.807303'}\n",
      "Sent Gold Price: {'id': 'de85d8cf-0257-433d-8dcf-913a175591a5', 'item': 'Gold 24K', 'unit': 'gram', 'price': 4589.41, 'currency': 'EGP', 'timestamp': '2025-09-09T21:26:35.822110'}\n",
      "Sent Gold Price: {'id': 'abde3e3e-9834-48fd-aaf8-d7972a7f3654', 'item': 'Gold 24K', 'unit': 'gram', 'price': 4865.61, 'currency': 'EGP', 'timestamp': '2025-09-09T21:26:37.838508'}\n",
      "Sent Gold Price: {'id': 'b85c9740-27c7-468c-a32e-1c6c8753ea8e', 'item': 'Gold 24K', 'unit': 'gram', 'price': 4772.24, 'currency': 'EGP', 'timestamp': '2025-09-09T21:26:39.848931'}\n",
      "Sent Gold Price: {'id': '7cf061c9-0bbf-43c6-bcf8-78cce4cf117d', 'item': 'Gold 24K', 'unit': 'gram', 'price': 4970.48, 'currency': 'EGP', 'timestamp': '2025-09-09T21:26:41.857926'}\n",
      "Sent Gold Price: {'id': '1bbeac1e-3c9b-4405-b70a-72a6399b0b14', 'item': 'Gold 24K', 'unit': 'gram', 'price': 4953.85, 'currency': 'EGP', 'timestamp': '2025-09-09T21:26:43.860983'}\n",
      "Sent Gold Price: {'id': '460d93d8-c71c-4069-9966-ecca29c98ee3', 'item': 'Gold 24K', 'unit': 'gram', 'price': 4560.71, 'currency': 'EGP', 'timestamp': '2025-09-09T21:26:45.875632'}\n",
      "Sent Gold Price: {'id': '08d0bd4b-3fd0-459a-9825-91fb562c3403', 'item': 'Gold 24K', 'unit': 'gram', 'price': 4740.31, 'currency': 'EGP', 'timestamp': '2025-09-09T21:26:47.878888'}\n",
      "Sent Gold Price: {'id': 'e685c6ac-b03f-4b85-aaf8-52d8100d4756', 'item': 'Gold 24K', 'unit': 'gram', 'price': 4806.0, 'currency': 'EGP', 'timestamp': '2025-09-09T21:26:49.888057'}\n",
      "Sent Gold Price: {'id': '76028a47-6490-4148-b5bb-e884281e8efb', 'item': 'Gold 24K', 'unit': 'gram', 'price': 4908.96, 'currency': 'EGP', 'timestamp': '2025-09-09T21:26:51.901686'}\n",
      "Sent Gold Price: {'id': '751baaa8-a773-4b85-9beb-aa5345e37378', 'item': 'Gold 24K', 'unit': 'gram', 'price': 4767.98, 'currency': 'EGP', 'timestamp': '2025-09-09T21:26:53.907503'}\n",
      "Sent Gold Price: {'id': '3b687a3e-ed13-4e64-b6cf-b121b3480efe', 'item': 'Gold 24K', 'unit': 'gram', 'price': 4719.27, 'currency': 'EGP', 'timestamp': '2025-09-09T21:26:55.917819'}\n",
      "Sent Gold Price: {'id': '8c145ccc-7fb6-486d-a630-01fc7ff6b362', 'item': 'Gold 24K', 'unit': 'gram', 'price': 4638.13, 'currency': 'EGP', 'timestamp': '2025-09-09T21:26:57.933935'}\n"
     ]
    },
    {
     "ename": "KeyboardInterrupt",
     "evalue": "",
     "output_type": "error",
     "traceback": [
      "\u001b[1;31m---------------------------------------------------------------------------\u001b[0m",
      "\u001b[1;31mKeyboardInterrupt\u001b[0m                         Traceback (most recent call last)",
      "\u001b[1;32m<ipython-input-3-dedbf1fed3bb>\u001b[0m in \u001b[0;36m<module>\u001b[1;34m\u001b[0m\n\u001b[0;32m     38\u001b[0m     \u001b[1;32mfor\u001b[0m \u001b[0m_\u001b[0m \u001b[1;32min\u001b[0m \u001b[0mrange\u001b[0m\u001b[1;33m(\u001b[0m\u001b[1;36m500\u001b[0m\u001b[1;33m)\u001b[0m\u001b[1;33m:\u001b[0m\u001b[1;33m\u001b[0m\u001b[1;33m\u001b[0m\u001b[0m\n\u001b[0;32m     39\u001b[0m         \u001b[0msimulate_gold_price\u001b[0m\u001b[1;33m(\u001b[0m\u001b[1;33m)\u001b[0m\u001b[1;33m\u001b[0m\u001b[1;33m\u001b[0m\u001b[0m\n\u001b[1;32m---> 40\u001b[1;33m         \u001b[0mtime\u001b[0m\u001b[1;33m.\u001b[0m\u001b[0msleep\u001b[0m\u001b[1;33m(\u001b[0m\u001b[1;36m2\u001b[0m\u001b[1;33m)\u001b[0m\u001b[1;33m\u001b[0m\u001b[1;33m\u001b[0m\u001b[0m\n\u001b[0m\u001b[0;32m     41\u001b[0m \u001b[1;33m\u001b[0m\u001b[0m\n\u001b[0;32m     42\u001b[0m \u001b[1;33m\u001b[0m\u001b[0m\n",
      "\u001b[1;31mKeyboardInterrupt\u001b[0m: "
     ]
    }
   ],
   "source": [
    "from kafka import KafkaProducer\n",
    "import json, random, time, uuid\n",
    "from datetime import datetime\n",
    "\n",
    "producer = KafkaProducer(\n",
    "    bootstrap_servers=\"localhost:9092\",\n",
    "    value_serializer=lambda v: json.dumps({ \n",
    "        \"schema\": {\n",
    "            \"type\": \"struct\",\n",
    "            \"fields\": [\n",
    "                {\"type\": \"string\", \"field\": \"id\"},\n",
    "                {\"type\": \"string\", \"field\": \"item\"},\n",
    "                {\"type\": \"string\", \"field\": \"unit\"},\n",
    "                {\"type\": \"float\", \"field\": \"price\"},\n",
    "                {\"type\": \"string\", \"field\": \"currency\"},\n",
    "                {\"type\": \"string\", \"field\": \"timestamp\"}\n",
    "            ]\n",
    "        },\n",
    "        \"payload\": v\n",
    "    }).encode(\"utf-8\")\n",
    ")\n",
    "\n",
    "gold_topic = \"gold_price\"\n",
    "\n",
    "def simulate_gold_price():\n",
    "    gold_price = {\n",
    "        \"id\": str(uuid.uuid4()),\n",
    "        \"item\": \"Gold 24K\",\n",
    "        \"unit\": \"gram\",\n",
    "        \"price\": round(random.uniform(4500, 5000), 2), \n",
    "        \"currency\": \"EGP\",\n",
    "        \"timestamp\": datetime.now().isoformat()\n",
    "    }\n",
    "    producer.send(gold_topic, value=gold_price)\n",
    "    print(f\"Sent Gold Price: {gold_price}\")\n",
    "\n",
    "if __name__ == \"__main__\":\n",
    "    for _ in range(500):\n",
    "        simulate_gold_price()\n",
    "        time.sleep(2)\n",
    "\n",
    "    \n",
    "    producer.flush()\n",
    "    print(\"Gold price simulation finished\")\n"
   ]
  }
 ],
 "metadata": {
  "kernelspec": {
   "display_name": "base",
   "language": "python",
   "name": "python3"
  },
  "language_info": {
   "codemirror_mode": {
    "name": "ipython",
    "version": 3
   },
   "file_extension": ".py",
   "mimetype": "text/x-python",
   "name": "python",
   "nbconvert_exporter": "python",
   "pygments_lexer": "ipython3",
   "version": "3.8.8"
  }
 },
 "nbformat": 4,
 "nbformat_minor": 5
}
